{
 "cells": [
  {
   "cell_type": "markdown",
   "id": "9a84c146",
   "metadata": {},
   "source": [
    "# Exercise 1: Simple Tokenization"
   ]
  },
  {
   "cell_type": "markdown",
   "id": "78200f76",
   "metadata": {},
   "source": [
    "When we split text into smaller units, we are performing the process of *tokenization*. For now, we will consider these units as words in the text.\n",
    "![tokenization-figure](../figures/class1/we-love-nlp-tokenization.png)\n",
    "\n",
    "\n",
    "```{note} \n",
    "This is also the first step in how *Large Language Models* represent text, although, as you will see later, they do not necessarily use *words* as their basic units.  \n",
    "```\n"
   ]
  },
  {
   "cell_type": "markdown",
   "id": "09a6425f",
   "metadata": {},
   "source": [
    "## 1.1 String-splitting"
   ]
  },
  {
   "cell_type": "markdown",
   "id": "0b0c697c",
   "metadata": {},
   "source": [
    "Below is an *excerpt* of an essay by ChatGPT-4 (`essay48.txt` in {cite:t}`herbold_large-scale_2023`). The topic is about \"distance-learning vs. attending school in person\":"
   ]
  },
  {
   "cell_type": "code",
   "execution_count": 7,
   "id": "3f4dcf14",
   "metadata": {},
   "outputs": [],
   "source": [
    "chatgpt_text = \"\"\"\n",
    "Education, a cornerstone of human development, has evolved significantly over time. \n",
    "With the advent of technology and the challenges posed by the global pandemic, the focus has shifted towards distance learning, a mode that offers flexibility, accessibility, and convenience. \n",
    "However, traditional in-person learning remains indispensable for a holistic educational experience. This essay will compare and contrast distance learning and attending school in person, highlighting the advantages and disadvantages of each.\n",
    "Distance learning, primarily facilitated through online platforms, offers a plethora of advantages.\n",
    "It provides students with access to a vast array of resources and the ability to learn at their own pace. \n",
    "Moreover, it transcends geographical boundaries, allowing students from remote locations to access quality education. \n",
    "Nevertheless, distance learning poses challenges related to student engagement, lack of social interaction, and the potential for digital inequity.\n",
    "\"\"\""
   ]
  },
  {
   "cell_type": "markdown",
   "id": "d53a216f",
   "metadata": {},
   "source": [
    "We can split a string in python by using the `split` function "
   ]
  }
 ],
 "metadata": {
  "kernelspec": {
   "display_name": ".venv",
   "language": "python",
   "name": "python3"
  },
  "language_info": {
   "codemirror_mode": {
    "name": "ipython",
    "version": 3
   },
   "file_extension": ".py",
   "mimetype": "text/x-python",
   "name": "python",
   "nbconvert_exporter": "python",
   "pygments_lexer": "ipython3",
   "version": "3.12.3"
  }
 },
 "nbformat": 4,
 "nbformat_minor": 5
}
