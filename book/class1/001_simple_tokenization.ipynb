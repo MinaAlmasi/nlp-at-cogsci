{
 "cells": [
  {
   "cell_type": "markdown",
   "id": "9a84c146",
   "metadata": {},
   "source": [
    "# Exercise 1: Simple Tokenization"
   ]
  },
  {
   "cell_type": "markdown",
   "id": "78200f76",
   "metadata": {},
   "source": [
    "When we split text into smaller units, we are performing the process of *tokenization*. For now, we will consider these units as words in the text.\n",
    "![tokenization-figure](../figures/class1/we-love-nlp-tokenization.png)\n",
    "\n",
    "\n",
    "```{admonition} LLM FRAMING\n",
    ":class: fuchsia\n",
    "This is also the first step in how *Large Language Models* represent text, although, as you will see later, they do not necessarily use *words* as their basic units.  \n",
    "```\n"
   ]
  },
  {
   "cell_type": "markdown",
   "id": "09a6425f",
   "metadata": {},
   "source": [
    "## 1.1 String-splitting for Word Tokenization"
   ]
  },
  {
   "cell_type": "markdown",
   "id": "0b0c697c",
   "metadata": {},
   "source": [
    "Below is an *excerpt* of an essay by ChatGPT-4 (`essay48.txt` in {cite:t}`herbold_large-scale_2023`). The topic is about \"distance-learning vs. attending school in person\":"
   ]
  },
  {
   "cell_type": "code",
   "execution_count": 19,
   "id": "3f4dcf14",
   "metadata": {},
   "outputs": [],
   "source": [
    "chatgpt_text = \"\"\"\n",
    "Education, a cornerstone of human development, has evolved significantly over time. \n",
    "With the advent of technology and the challenges posed by the global pandemic, the focus has shifted towards distance learning, a mode that offers flexibility, accessibility, and convenience. \n",
    "However, traditional in-person learning remains indispensable for a holistic educational experience. \n",
    "This essay will compare and contrast distance learning and attending school in person, highlighting the advantages and disadvantages of each.\n",
    "Distance learning, primarily facilitated through online platforms, offers a plethora of advantages. \n",
    "It provides students with access to a vast array of resources and the ability to learn at their own pace. \n",
    "Moreover, it transcends geographical boundaries, allowing students from remote locations to access quality education. \n",
    "Nevertheless, distance learning poses challenges related to student engagement, lack of social interaction, and the potential for digital inequity.\n",
    "\"\"\""
   ]
  },
  {
   "cell_type": "markdown",
   "id": "d53a216f",
   "metadata": {},
   "source": [
    "We can split a string in python by using the `.split()` method on our string variable. "
   ]
  },
  {
   "cell_type": "code",
   "execution_count": 23,
   "id": "3d791588",
   "metadata": {},
   "outputs": [],
   "source": [
    "chatgpt_words = chatgpt_text.split()"
   ]
  },
  {
   "cell_type": "markdown",
   "id": "4397d29c",
   "metadata": {},
   "source": [
    "Let's look at the first 50 words of our printed text. (*Note that you can (side)-scroll through the words*)\n"
   ]
  },
  {
   "cell_type": "code",
   "execution_count": 26,
   "id": "72a76ea1",
   "metadata": {},
   "outputs": [
    {
     "name": "stdout",
     "output_type": "stream",
     "text": [
      "['Education,', 'a', 'cornerstone', 'of', 'human', 'development,', 'has', 'evolved', 'significantly', 'over', 'time.', 'With', 'the', 'advent', 'of', 'technology', 'and', 'the', 'challenges', 'posed', 'by', 'the', 'global', 'pandemic,', 'the', 'focus', 'has', 'shifted', 'towards', 'distance', 'learning,', 'a', 'mode', 'that', 'offers', 'flexibility,', 'accessibility,', 'and', 'convenience.', 'However,', 'traditional', 'in-person', 'learning', 'remains', 'indispensable', 'for', 'a', 'holistic', 'educational', 'experience.']\n"
     ]
    }
   ],
   "source": [
    "print(chatgpt_words[:50])"
   ]
  },
  {
   "cell_type": "markdown",
   "id": "da787813",
   "metadata": {},
   "source": [
    "Some of the words are present more than one time. To give a better overview of the kinds of words used, we can search for all unique words:"
   ]
  },
  {
   "cell_type": "code",
   "execution_count": 30,
   "id": "126dbc15",
   "metadata": {},
   "outputs": [
    {
     "name": "stdout",
     "output_type": "stream",
     "text": [
      "['Distance', 'Education,', 'However,', 'It', 'Moreover,', 'Nevertheless,', 'This', 'With', 'a', 'ability', 'access', 'accessibility,', 'advantages', 'advantages.', 'advent', 'allowing', 'and', 'array', 'at', 'attending', 'boundaries,', 'by', 'challenges', 'compare', 'contrast', 'convenience.', 'cornerstone', 'development,', 'digital', 'disadvantages', 'distance', 'each.', 'education.', 'educational', 'engagement,', 'essay', 'evolved', 'experience.', 'facilitated', 'flexibility,', 'focus', 'for', 'from', 'geographical', 'global', 'has', 'highlighting', 'holistic', 'human', 'in', 'in-person', 'indispensable', 'inequity.', 'interaction,', 'it', 'lack', 'learn', 'learning', 'learning,', 'locations', 'mode', 'of', 'offers', 'online', 'over', 'own', 'pace.', 'pandemic,', 'person,', 'platforms,', 'plethora', 'posed', 'poses', 'potential', 'primarily', 'provides', 'quality', 'related', 'remains', 'remote', 'resources', 'school', 'shifted', 'significantly', 'social', 'student', 'students', 'technology', 'that', 'the', 'their', 'through', 'time.', 'to', 'towards', 'traditional', 'transcends', 'vast', 'will', 'with']\n"
     ]
    }
   ],
   "source": [
    "# get the \"SET\"\n",
    "chatgpt_set = set(chatgpt_words)\n",
    "\n",
    "# convert back to list \n",
    "chatgpt_unique = list(chatgpt_set)\n",
    "\n",
    "# let's sort it also\n",
    "chatgpt_unique = sorted(chatgpt_unique)\n",
    "\n",
    "print(chatgpt_unique)\n"
   ]
  },
  {
   "cell_type": "markdown",
   "id": "6aaf89af",
   "metadata": {},
   "source": [
    "```{admonition} QUESTION\n",
    ":class: red\n",
    "Look at the unique words. Do you notice a problem with them? \n",
    "\n",
    "<details>\n",
    "<summary>Click to see ANSWER</summary>\n",
    "\n",
    "Some words are duplicate such as: \n",
    "- \"advantages\" and \"advantages.\" \n",
    "- \"Distance\" and \"distance\"\n",
    "\n",
    "These things should have been fixed by lowercasing `chatgpt_text` and removing punctuation *before splitting*. We'll do this in the hands-on exercise. \n",
    "</details>\n",
    "```"
   ]
  },
  {
   "cell_type": "markdown",
   "id": "427e0a92",
   "metadata": {},
   "source": [
    "### 1.1 HANDS-ON EXERCISE"
   ]
  },
  {
   "cell_type": "markdown",
   "id": "9e946379",
   "metadata": {},
   "source": [
    "If you have already discussed the question, proceed to the exercises:"
   ]
  },
  {
   "cell_type": "markdown",
   "id": "71dadd84",
   "metadata": {},
   "source": [
    "```{admonition} HANDS-ON\n",
    ":class: dropdown, teal\n",
    "What I was *fishing* for was that there are a couple of optimizations that we should make before splitting our text. Follow these steps:\n",
    "\n",
    "A. Paste the text \"chatgpt_text\" into your own code notebook \n",
    "\n",
    "B. Make all of chatgpt_text (before splitting) into lowercase\n",
    "\n",
    "C. Remove punctuation in the simplest way, only focusing on `punctuations_to_remove` = [\".\", \",\", \"!\", \"?\"]\n",
    "\n",
    "I will provide a few hints and you can even quick to reveal the code chunk if you feel completely stuck! Try to google before resorting to this :) "
   ]
  },
  {
   "cell_type": "markdown",
   "id": "9e7e8435",
   "metadata": {},
   "source": [
    "### Exercise 1.1B\n",
    "<details>\n",
    "<summary>HINT 1. </summary>\n",
    "Python has a lot of built-in methods for string manipulations like `split()`? Might there be one for lowercasing?\n",
    "</details>"
   ]
  },
  {
   "cell_type": "code",
   "execution_count": 37,
   "id": "0acf92db",
   "metadata": {},
   "outputs": [
    {
     "name": "stdout",
     "output_type": "stream",
     "text": [
      "\n",
      "education, a cornerstone of human development, has evolved significantly over time. \n",
      "with the advent of technology and the challenges posed by the global pandemic, the focus has shifted towards distance learning, a mode that offers flexibility, accessibility, and convenience. \n",
      "however, traditional in-person learning remains indispensable for a holistic educational experience. \n",
      "this essay will compare and contrast distance learning and attending school in person, highlighting the advantages and disadvantages of each.\n",
      "distance learning, primarily facilitated through online platforms, offers a plethora of advantages. \n",
      "it provides students with access to a vast array of resources and the ability to learn at their own pace. \n",
      "moreover, it transcends geographical boundaries, allowing students from remote locations to access quality education. \n",
      "nevertheless, distance learning poses challenges related to student engagement, lack of social interaction, and the potential for digital inequity.\n",
      "\n"
     ]
    }
   ],
   "source": [
    "{\n",
    "    \"tags\": [\n",
    "        \"hide-cell\"\n",
    "    ]\n",
    "}\n",
    "\n",
    "chatgpt_lowercased_text = chatgpt_text.lower()\n",
    "\n",
    "print(chatgpt_lowercased_text)"
   ]
  }
 ],
 "metadata": {
  "kernelspec": {
   "display_name": ".venv",
   "language": "python",
   "name": "python3"
  },
  "language_info": {
   "codemirror_mode": {
    "name": "ipython",
    "version": 3
   },
   "file_extension": ".py",
   "mimetype": "text/x-python",
   "name": "python",
   "nbconvert_exporter": "python",
   "pygments_lexer": "ipython3",
   "version": "3.12.3"
  }
 },
 "nbformat": 4,
 "nbformat_minor": 5
}
