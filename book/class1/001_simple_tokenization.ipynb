{
 "cells": [
  {
   "cell_type": "markdown",
   "id": "9a84c146",
   "metadata": {},
   "source": [
    "# Exercise 1: Simple Tokenization to Extract Words"
   ]
  },
  {
   "cell_type": "markdown",
   "id": "47ac7b3d",
   "metadata": {},
   "source": [
    "## 1.1 What is Tokenization?"
   ]
  },
  {
   "cell_type": "markdown",
   "id": "78200f76",
   "metadata": {},
   "source": [
    "When we split text into smaller units, we are performing the process of *tokenization*. For now, we will consider these units as words in the text.\n",
    "![tokenization-figure](../figures/class1/we-love-nlp-tokenization.png)\n",
    "\n",
    "\n",
    "```{admonition} LLM FRAMING\n",
    ":class: fuchsia\n",
    "This is also the first step in how *Large Language Models* represent text, although, as you will see later, they do not necessarily use *words* as their basic units.  \n",
    "```\n"
   ]
  },
  {
   "cell_type": "markdown",
   "id": "09a6425f",
   "metadata": {},
   "source": [
    "## 1.2 String-splitting to get a word list\n",
    "Below is an essay by ChatGPT-4 about \"distance-learning vs. attending school in person\"  (`essay48.txt` in {cite:t}`herbold_large-scale_2023`). You don't need to read it all, but have a quick skim :)"
   ]
  },
  {
   "cell_type": "code",
   "execution_count": 215,
   "id": "3f4dcf14",
   "metadata": {},
   "outputs": [],
   "source": [
    "chatgpt_text = \"\"\"\n",
    "Title: Distance Learning vs. Attending School In Person: A Comparative Analysis\n",
    "Education, a cornerstone of human development, has evolved significantly over time. \n",
    "With the advent of technology and the challenges posed by the global pandemic, the focus has shifted towards distance learning, a mode that offers flexibility, accessibility, and convenience. \n",
    "However, traditional in-person learning remains indispensable for a holistic educational experience. \n",
    "This essay will compare and contrast distance learning and attending school in person, highlighting the advantages and disadvantages of each.\n",
    "\n",
    "Distance learning, primarily facilitated through online platforms, offers a plethora of advantages. \n",
    "It provides students with access to a vast array of resources and the ability to learn at their own pace. \n",
    "Moreover, it transcends geographical boundaries, allowing students from remote locations to access quality education. \n",
    "Nevertheless, distance learning poses challenges related to student engagement, lack of social interaction, and the potential for digital inequity.\n",
    "\n",
    "On the other hand, attending school in person offers a well-rounded learning experience. In-person learning fosters strong bonds among students, promoting teamwork and collaboration. \n",
    "Furthermore, it enables teachers to provide immediate feedback and tailor their teaching methods to the individual needs of students. \n",
    "However, traditional classrooms may limit access to resources and impose geographical constraints.\n",
    "\n",
    "In conclusion, both distance learning and in-person education have their unique advantages and disadvantages. \n",
    "Distance learning offers flexibility and accessibility, while in-person learning facilitates social interaction and individualized instruction. \n",
    "As education continues to evolve, a hybrid approach that combines the strengths of both methods may prove to be the most effective solution, catering to the diverse needs of students in the 21st century.\n",
    "\"\"\""
   ]
  },
  {
   "cell_type": "markdown",
   "id": "6ddfdf4d",
   "metadata": {},
   "source": [
    "To explore its word distribution, we will \"cut up\" the string of text into individual words using the `.split` method ..."
   ]
  },
  {
   "cell_type": "markdown",
   "id": "3b331c90",
   "metadata": {},
   "source": [
    "### Pre-processing\n",
    "... before we split, we need to do some simple pre-processing. As a start, we will *lowercase* the text and *remove basic punctuation*.\n",
    "\n",
    "```{admonition} QUESTION\n",
    ":class: red\n",
    "\n",
    "Why would it be important to lowercase and remove punctuation? Consider this with your group and click to reveal answer before proceeding.\n",
    "\n",
    "\n",
    "<details>\n",
    "<summary>Click to see ANSWER</summary>\n",
    "So the same word is grouped in the distribution. In <code>essay48.txt</code>, for example, <code>\"advantages\"</code> and <code>\"advantages.\"</code> or <code>\"Distance\"</code> and <code>\"distance\"</code> would otherwise be counted separately.\n",
    "</details>\n",
    "```"
   ]
  },
  {
   "cell_type": "markdown",
   "id": "c1f68bad",
   "metadata": {},
   "source": [
    "Lowercasing the text:"
   ]
  },
  {
   "cell_type": "code",
   "execution_count": 216,
   "id": "44a21850",
   "metadata": {},
   "outputs": [
    {
     "name": "stdout",
     "output_type": "stream",
     "text": [
      "\n",
      "title: distance learning vs. attending school in person: a comparative analysis\n",
      "education, a cornerstone of human development, has evolved significantly over time. \n",
      "with the advent of technology and the challenges posed by the global pandemic, the focus has shifted towards distance learning, a mode\n"
     ]
    }
   ],
   "source": [
    "chatgpt_lowercased = chatgpt_text.lower()\n",
    "print(chatgpt_lowercased[:300]) # brackets imply printing the first 300 characters (just to get a shorter output)."
   ]
  },
  {
   "cell_type": "markdown",
   "id": "1455c422",
   "metadata": {},
   "source": [
    "Removing punctuation:"
   ]
  },
  {
   "cell_type": "code",
   "execution_count": 217,
   "id": "17a81523",
   "metadata": {},
   "outputs": [
    {
     "name": "stdout",
     "output_type": "stream",
     "text": [
      "\n",
      "title distance learning vs attending school in person a comparative analysis\n",
      "education a cornerstone of human development has evolved significantly over time \n",
      "with the advent of technology and the challenges posed by the global pandemic the focus has shifted towards distance le\n"
     ]
    }
   ],
   "source": [
    "# built-in library for working with regular expressions (rule-based pattern matching)\n",
    "# best practice is to import at the top of a notebook, but included here for simplicity\n",
    "import re \n",
    "\n",
    "# remove all \".\", \",\", \"!\", \"?\" \":\"\" from the text with regex\n",
    "chatgpt_clean = re.sub(r\"[.,!?:]\", \"\", chatgpt_lowercased) \n",
    "print(chatgpt_clean[:279])"
   ]
  },
  {
   "cell_type": "markdown",
   "id": "d53a216f",
   "metadata": {},
   "source": [
    "### Ready to split!\n",
    "We will use the `.split()` method on our pre-processed `chatgpt_clean`:"
   ]
  },
  {
   "cell_type": "code",
   "execution_count": 218,
   "id": "3d791588",
   "metadata": {},
   "outputs": [],
   "source": [
    "chatgpt_words = chatgpt_clean.split()"
   ]
  },
  {
   "cell_type": "markdown",
   "id": "4397d29c",
   "metadata": {},
   "source": [
    "Let's look at the first 50 words of our printed text. (*you can side-scroll through the words*)\n"
   ]
  },
  {
   "cell_type": "code",
   "execution_count": 219,
   "id": "72a76ea1",
   "metadata": {},
   "outputs": [
    {
     "name": "stdout",
     "output_type": "stream",
     "text": [
      "['title', 'distance', 'learning', 'vs', 'attending', 'school', 'in', 'person', 'a', 'comparative', 'analysis', 'education', 'a', 'cornerstone', 'of', 'human', 'development', 'has', 'evolved', 'significantly', 'over', 'time', 'with', 'the', 'advent', 'of', 'technology', 'and', 'the', 'challenges', 'posed', 'by', 'the', 'global', 'pandemic', 'the', 'focus', 'has', 'shifted', 'towards', 'distance', 'learning', 'a', 'mode', 'that', 'offers', 'flexibility', 'accessibility', 'and', 'convenience']\n"
     ]
    }
   ],
   "source": [
    "print(chatgpt_words[:50])"
   ]
  },
  {
   "cell_type": "markdown",
   "id": "88d626ef",
   "metadata": {},
   "source": [
    "### Your Turn :)"
   ]
  },
  {
   "cell_type": "markdown",
   "id": "2af88870",
   "metadata": {},
   "source": [
    "```{admonition} HANDS-ON\n",
    ":class: red\n",
    "\n",
    "Below you'll find the `student_text` which needs to go through a similar processing and splitting of words. \n",
    "\n",
    "**YOUR TASK**: Define a function that can take a string like `student_text` or `chatgpt_text` and do all the steps above before returning a list variable `words`. \n",
    "\n",
    "**WHY?** It is good practice to write your code into seperate (\"modular\") functions if you know that you need to run the code more than once!\n",
    "```"
   ]
  },
  {
   "cell_type": "code",
   "execution_count": 220,
   "id": "a7b42f59",
   "metadata": {},
   "outputs": [],
   "source": [
    "student_text = \"\"\"\n",
    "A matter of considerable controversy at present is the issue of whether distance-learning should be promoted as much as possible, or rather attending lectures in person should be allowed to take a predominant place in universities because this way of learning is superior than online degrees. From my perspective, online-teaching should be widely used among colleges and universities in terms of convenience and optimizing cost for educational institutions.\n",
    "To begin with, distance-learning brings significant convenience for students in every corner of the world. In earlier times, students who were tired of commuting had to attend schools nearby, regardless of any differences in teaching facilities, teacher's qualifications or the school reputation. Now, however, students are able to apply for online-courses provided by top-of-the-range universities and colleges worldwide. \n",
    "Furthermore, the presence of video conferencing allows a teacher to teach a greater number of students. Consequently, educational institutions are able to optimize costs by increasing teacher-student ratios. Thanks to the economical online-teaching, universities and colleges are able to offer grants for students who have outstanding academic achievements but are unable to attend schools because of financial constrains.\n",
    "Nevertheless, opponents of online-degrees would argue that attending lectures in person provides students an opportunity to communicate with teachers and other classmates. They further point out that traditional teaching approaches involving discussion and cooperation among students play a significant role in campus life. It is the real interactions and communications in class make education much more attractive.\n",
    "By way of conclusion, it is my belief that distance-learning will become increasingly important in the future as the pace of life increases. However, discussions and interactions should be held via video conferencing frequently so that the joy of learning would not be diminished.\n",
    "\"\"\""
   ]
  },
  {
   "cell_type": "markdown",
   "id": "d4a8a0e3",
   "metadata": {},
   "source": [
    "If you need a primer on `functions` in Python, they are defined as such:\n"
   ]
  },
  {
   "cell_type": "code",
   "execution_count": 221,
   "id": "511724b2",
   "metadata": {},
   "outputs": [
    {
     "name": "stdout",
     "output_type": "stream",
     "text": [
      "6\n"
     ]
    }
   ],
   "source": [
    "def add_two_to_my_number(my_number): # the input variable or \"parameters\" of the function written\n",
    "    \"\"\"\n",
    "    This function adds '2' to 'my_number'\n",
    "    \"\"\"\n",
    "    new_number = 2 + my_number\n",
    "\n",
    "    return new_number\n",
    "\n",
    "new_number = add_two_to_my_number(my_number = 4)\n",
    "print(new_number)"
   ]
  },
  {
   "cell_type": "markdown",
   "id": "aa251c64",
   "metadata": {},
   "source": [
    "Now take this skeleton of a function and make your procesing pipeline!"
   ]
  },
  {
   "cell_type": "code",
   "execution_count": 222,
   "id": "1924f726",
   "metadata": {},
   "outputs": [],
   "source": [
    "#### write your function in your own notebook:\n",
    "def get_clean_words(text):\n",
    "    \"\"\"\n",
    "    This function takes 'text' as input and makes it lowercase, removes basic punctuation, and splits the text into a list of words.\n",
    "    \"\"\"\n",
    "    # # remove pass and insert your steps!\n",
    "    pass "
   ]
  },
  {
   "cell_type": "code",
   "execution_count": 223,
   "id": "5f06951d",
   "metadata": {},
   "outputs": [],
   "source": [
    "#### apply it to student text!!"
   ]
  },
  {
   "cell_type": "markdown",
   "id": "4e69d4fb",
   "metadata": {},
   "source": [
    "## 1.4 Counting & Plotting Words\n",
    "Now that you have a pipeline for cleaning text, let's count it and plot it!"
   ]
  },
  {
   "cell_type": "code",
   "execution_count": 224,
   "id": "77816272",
   "metadata": {},
   "outputs": [
    {
     "name": "stdout",
     "output_type": "stream",
     "text": [
      "['education', 'a', 'cornerstone', 'of', 'human', 'development', 'has', 'evolved', 'significantly', 'over', 'time', 'with', 'the', 'advent', 'of', 'technology', 'and', 'the', 'challenges', 'posed', 'by', 'the', 'global', 'pandemic', 'the', 'focus', 'has', 'shifted', 'towards', 'distance', 'learning', 'a', 'mode', 'that', 'offers', 'flexibility', 'accessibility', 'and', 'convenience', 'however', 'traditional', 'in-person', 'learning', 'remains', 'indispensable', 'for', 'a', 'holistic', 'educational', 'experience', 'this', 'essay', 'will', 'compare', 'and', 'contrast', 'distance', 'learning', 'and', 'attending', 'school', 'in', 'person', 'highlighting', 'the', 'advantages', 'and', 'disadvantages', 'of', 'each', 'distance', 'learning', 'primarily', 'facilitated', 'through', 'online', 'platforms', 'offers', 'a', 'plethora', 'of', 'advantages', 'it', 'provides', 'students', 'with', 'access', 'to', 'a', 'vast', 'array', 'of', 'resources', 'and', 'the', 'ability', 'to', 'learn', 'at', 'their', 'own', 'pace', 'moreover', 'it', 'transcends', 'geographical', 'boundaries', 'allowing', 'students', 'from', 'remote', 'locations', 'to', 'access', 'quality', 'education', 'nevertheless', 'distance', 'learning', 'poses', 'challenges', 'related', 'to', 'student', 'engagement', 'lack', 'of', 'social', 'interaction', 'and', 'the', 'potential', 'for', 'digital', 'inequity']\n"
     ]
    }
   ],
   "source": [
    "clean_words = clean_text.split()\n",
    "print(clean_words) # maybe move this section to next page!"
   ]
  }
 ],
 "metadata": {
  "kernelspec": {
   "display_name": ".venv",
   "language": "python",
   "name": "python3"
  },
  "language_info": {
   "codemirror_mode": {
    "name": "ipython",
    "version": 3
   },
   "file_extension": ".py",
   "mimetype": "text/x-python",
   "name": "python",
   "nbconvert_exporter": "python",
   "pygments_lexer": "ipython3",
   "version": "3.12.3"
  }
 },
 "nbformat": 4,
 "nbformat_minor": 5
}
