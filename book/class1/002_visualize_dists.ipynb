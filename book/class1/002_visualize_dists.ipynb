{
 "cells": [
  {
   "cell_type": "markdown",
   "id": "39a20ec8",
   "metadata": {},
   "source": [
    "## Exercise 2. Visualizing Word Distributions"
   ]
  },
  {
   "cell_type": "markdown",
   "id": "ef413f98",
   "metadata": {},
   "source": [
    "WIP\n",
    "- Maybe we count words here\n",
    "- We put them into pandas\n",
    "- We plot\n",
    "- We repeat for student essay"
   ]
  }
 ],
 "metadata": {
  "language_info": {
   "name": "python"
  }
 },
 "nbformat": 4,
 "nbformat_minor": 5
}
