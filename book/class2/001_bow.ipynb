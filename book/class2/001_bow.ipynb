{
 "cells": [
  {
   "cell_type": "markdown",
   "id": "d6328faf",
   "metadata": {},
   "source": [
    "# Bag-of-Words & TF-IDF"
   ]
  },
  {
   "cell_type": "markdown",
   "id": "be80a48c",
   "metadata": {},
   "source": []
  }
 ],
 "metadata": {
  "language_info": {
   "name": "python"
  }
 },
 "nbformat": 4,
 "nbformat_minor": 5
}
