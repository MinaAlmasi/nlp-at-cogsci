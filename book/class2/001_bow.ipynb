{
 "cells": [
  {
   "cell_type": "markdown",
   "id": "d6328faf",
   "metadata": {},
   "source": [
    "# Bag-of-Words & TF-IDF"
   ]
  },
  {
   "cell_type": "markdown",
   "id": "9a5ee8bf",
   "metadata": {},
   "source": [
    "Today we ... "
   ]
  },
  {
   "cell_type": "code",
   "execution_count": null,
   "id": "2b922764",
   "metadata": {},
   "outputs": [],
   "source": [
    "x = 2 + 2"
   ]
  },
  {
   "cell_type": "code",
   "execution_count": null,
   "id": "5318ecb5",
   "metadata": {},
   "outputs": [],
   "source": [
    "print(x)"
   ]
  }
 ],
 "metadata": {
  "language_info": {
   "name": "python"
  }
 },
 "nbformat": 4,
 "nbformat_minor": 5
}
